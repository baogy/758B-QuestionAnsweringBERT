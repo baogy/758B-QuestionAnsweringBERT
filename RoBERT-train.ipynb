{
 "cells": [
  {
   "cell_type": "code",
   "execution_count": null,
   "metadata": {},
   "outputs": [],
   "source": [
    "!cd C:/Users/gbao/Documents/GitHub/transformers; pip install .\n",
    "!mkdir results_roberta_large\n",
    "!python /kaggle/input/pytorchtransformers/transformers-2.5.1/examples/run_squad.py \\"
   ]
  },
  {
   "cell_type": "code",
   "execution_count": null,
   "metadata": {},
   "outputs": [],
   "source": [
    "!python /kaggle/input/pytorchtransformers/transformers-2.5.1/examples/run_squad.py \\\n",
    "--model_type roberta \\\n",
    "--model_name_or_path roberta-large \\\n",
    "--do_lower_case \\\n",
    "--do_train \\\n",
    "--do_eval \\\n",
    "--data_dir C:/Users/gbao/Google 云端硬盘/BUDT758B/DATA \\\n",
    "--cache_dir C:/Users/gbao/Google 云端硬盘/BUDT758B/DATA/cached-roberta-large-pretrained \\\n",
    "--train_file train.json \\\n",
    "--predict_file test.json \\\n",
    "--learning_rate 5e-5 \\\n",
    "--num_train_epochs 2 \\\n",
    "--max_seq_length 192 \\\n",
    "--doc_stride 64 \\\n",
    "--output_dir results_roberta_large \\\n",
    "--per_gpu_eval_batch_size=16 \\\n",
    "--per_gpu_train_batch_size=16 \\\n",
    "--save_steps=100000"
   ]
  }
 ],
 "metadata": {
  "kernelspec": {
   "display_name": "Python 3",
   "language": "python",
   "name": "python3"
  },
  "language_info": {
   "codemirror_mode": {
    "name": "ipython",
    "version": 3
   },
   "file_extension": ".py",
   "mimetype": "text/x-python",
   "name": "python",
   "nbconvert_exporter": "python",
   "pygments_lexer": "ipython3",
   "version": "3.7.7"
  }
 },
 "nbformat": 4,
 "nbformat_minor": 4
}
